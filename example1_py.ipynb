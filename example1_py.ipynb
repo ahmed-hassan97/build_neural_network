{
  "nbformat": 4,
  "nbformat_minor": 0,
  "metadata": {
    "colab": {
      "name": "example1.py",
      "provenance": []
    },
    "kernelspec": {
      "name": "python3",
      "display_name": "Python 3"
    },
    "accelerator": "GPU"
  },
  "cells": [
    {
      "cell_type": "code",
      "metadata": {
        "id": "pwngKc8f2eUK",
        "colab_type": "code",
        "colab": {}
      },
      "source": [
        "import numpy as np\n",
        "neuron = 4\n",
        "def sigmoid(x):\n",
        " return 1.0/(1+ np.exp(-x))\n",
        "def sigmoid_derivative(x):\n",
        " return x * (1.0 - x)\n",
        "class NeuralNetwork:\n",
        " def __init__(self, x, y):\n",
        "  self.input = x\n",
        "  print('inputs \\n' , self.input)\n",
        "  print()\n",
        "  self.weights1 = np.random.rand(self.input.shape[1],neuron)\n",
        "  print('weights1 \\n',self.weights1)\n",
        "  print()\n",
        "  self.weights2 = np.random.rand(neuron,1)\n",
        "  print('weights2 \\n',self.weights2)\n",
        "  print()\n",
        "  self.y = y\n",
        "  print('y \\n',self.y)\n",
        "  print()\n",
        "  self.output = np.zeros(self.y.shape) # y hat\n",
        "  print('output \\n',self.output)\n",
        "  print()\n",
        " def feedforward(self):\n",
        "   self.layer1 =sigmoid(np.dot(self.input, self.weights1))\n",
        "   # print('layer 1 \\n',self.layer1)\n",
        "   # print()\n",
        "   self.output = sigmoid(np.dot(self.layer1, self.weights2))\n",
        "   # print('output \\n',self.output)\n",
        "   # print()\n",
        " def backprop(self):\n",
        "  # application of the chain rule to find derivative of the lossل function with respect to weights2 and weights1\n",
        "  d_weights2 = np.dot(self.layer1.T, (2*(self.y - self.output) * sigmoid_derivative(self.output)))\n",
        "  # print('d_weights2 \\n',d_weights2 )\n",
        "  # print()\n",
        "  d_weights1 = np.dot(self.input.T,(np.dot(2*(self.y - self.output) * sigmoid_derivative(self.output),self.weights2.T) * sigmoid_derivative(self.layer1)))\n",
        "  # print('d_weights1 \\n',d_weights1)\n",
        "  # print()\n",
        "  # update the weights with the derivative (slope) of the loss function\n",
        "  self.weights1 += d_weights1\n",
        "  self.weights2 += d_weights2\n"
      ],
      "execution_count": 0,
      "outputs": []
    },
    {
      "cell_type": "code",
      "metadata": {
        "id": "fyuKj2u23Vxd",
        "colab_type": "code",
        "colab": {}
      },
      "source": [
        "\n"
      ],
      "execution_count": 0,
      "outputs": []
    },
    {
      "cell_type": "code",
      "metadata": {
        "id": "_XQddRL-4HjX",
        "colab_type": "code",
        "outputId": "6fc3ac8e-8c6d-4aae-8158-62758b57855b",
        "colab": {
          "base_uri": "https://localhost:8080/",
          "height": 595
        }
      },
      "source": [
        "X = np.array([[0,0,1],\n",
        "[0,1,1],\n",
        "[1,0,1],\n",
        "[1,1,1]])\n",
        "\n",
        "y = np.array([[0],\n",
        "[1],\n",
        "[1],\n",
        "[0]])\n",
        "nn = NeuralNetwork(X,y)\n",
        "for i in range(10000):\n",
        " nn.feedforward()\n",
        " nn.backprop()\n",
        "# print('--------------------------------')\n",
        "#\n",
        "print(\"output is =  \")\n",
        "print(nn.output)"
      ],
      "execution_count": 6,
      "outputs": [
        {
          "output_type": "stream",
          "text": [
            "inputs \n",
            " [[0 0 1]\n",
            " [0 1 1]\n",
            " [1 0 1]\n",
            " [1 1 1]]\n",
            "\n",
            "weights1 \n",
            " [[0.48614223 0.70460414 0.61898708 0.54313266]\n",
            " [0.10436948 0.59825495 0.13550096 0.15346884]\n",
            " [0.26196427 0.61035537 0.49858885 0.69829361]]\n",
            "\n",
            "weights2 \n",
            " [[0.55512051]\n",
            " [0.06102851]\n",
            " [0.82156112]\n",
            " [0.11685769]]\n",
            "\n",
            "y \n",
            " [[0]\n",
            " [1]\n",
            " [1]\n",
            " [0]]\n",
            "\n",
            "output \n",
            " [[0.]\n",
            " [0.]\n",
            " [0.]\n",
            " [0.]]\n",
            "\n",
            "output is =  \n",
            "[[0.00469507]\n",
            " [0.99357603]\n",
            " [0.99202637]\n",
            " [0.00779864]]\n"
          ],
          "name": "stdout"
        }
      ]
    }
  ]
}
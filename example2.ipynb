{
  "nbformat": 4,
  "nbformat_minor": 0,
  "metadata": {
    "colab": {
      "name": "example2.ipynb",
      "provenance": []
    },
    "kernelspec": {
      "name": "python3",
      "display_name": "Python 3"
    }
  },
  "cells": [
    {
      "cell_type": "code",
      "metadata": {
        "id": "l3Y4gYE1d9IL",
        "colab_type": "code",
        "colab": {}
      },
      "source": [
        "import numpy as np\n",
        "class Neural_Network(object):\n",
        " def __init__(self):\n",
        "\n",
        "  #parameters\n",
        "  self.inputSize = 2\n",
        "  self.outputSize = 1\n",
        "  self.hiddenSize = 3\n",
        "#weights\n",
        "  self.W1 = np.random.randn(self.inputSize, self.hiddenSize)\n",
        "# (2x3) weight matrix from input to hidden layer\n",
        "# print(self.W1)\n",
        "  self.W2 = np.random.randn(self.hiddenSize,\n",
        "  self.outputSize) # (3x1) weight matrix from hidden to output layer\n",
        "# print(self.W2)\n",
        "\n",
        " def forward(self, X):\n",
        "#forward propagation through our network\n",
        "  self.z = np.dot(X, self.W1) # dot product of X (input) and first set of 3x2 weights\n",
        "  self.z2 = self.sigmoid(self.z) # activation functionself.z3 = np.dot(self.z2, self.W2) # dot product of hidden layer (z2) and second set of 3x1 weights\n",
        "  o = self.sigmoid(self.z2) # final activation function\n",
        "  return o\n",
        "\n",
        " def sigmoid(self, s):\n",
        "# activation function\n",
        "  return 1/(1+np.exp(-s))\n",
        " def sigmoidPrime(self, s):\n",
        "#derivative of sigmoid\n",
        "  return s * (1 - s)\n",
        " def backward(self, X, y, o):\n",
        "# backward propagate through the network\n",
        "  self.o_error = y - o # error in output\n",
        "  self.o_delta = self.o_error * self.sigmoidPrime(o) # applying derivative of sigmoid to error \n",
        "\n",
        "  self.z2_error = self.o_delta.dot(self.W2.T) # z2 error: how much our hidden layer weights contributed to output error\n",
        "  self.z2_delta = self.z2_error * self.sigmoidPrime(self.z2) # applying derivative of sigmoid to z2 error\n",
        "  self.W1 += X.T.dot(self.z2_delta) # adjusting first set (input - -> hidden) weights\n",
        "  self.W2 += self.z2.T.dot(self.o_delta) # adjusting second set (hidden --> output) weights\n",
        " def train(self, X, y):\n",
        "  o = self.forward(X)\n",
        "  self.backward(X, y, o)\n",
        " def saveWeights(self):\n",
        "  np.savetxt(\"w1.txt\", self.W1, fmt=\"%s\")\n",
        "  np.savetxt(\"w2.txt\", self.W2, fmt=\"%s\") \n",
        "\n",
        " def predict(self):\n",
        "  print (\"Predicted data based on trained weights: \")\n",
        "  print (\"Input (scaled): \\n\" + str(xPredicted))\n",
        "  print (\"Output: \\n\" + str(self.forward(xPredicted)))"
      ],
      "execution_count": 0,
      "outputs": []
    },
    {
      "cell_type": "code",
      "metadata": {
        "id": "fbnGM6vCfjvJ",
        "colab_type": "code",
        "colab": {}
      },
      "source": [
        "# X = (hours studying, hours sleeping), y = score on test, xPredicted = 4 hours studying & 8 hours sleeping (input data for prediction)\n",
        "X = np.array(([2, 9], [1, 5], [3, 6]), dtype=float)\n",
        "y = np.array(([92], [86], [89]), dtype=float)\n",
        "xPredicted = np.array(([4,8]), dtype=float)\n",
        "\n",
        "# scale units\n",
        "#print(X)\n",
        "X = X/np.amax(X, axis=0) # maximum of X array\n",
        "print(X)\n",
        "#print(xPredicted)\n",
        "xPredicted = xPredicted/np.amax(xPredicted, axis=0) # maximum of xPredicted (our input data for the prediction) #print(xPredicted)\n",
        "y = y/100 # max test score is 100\n",
        "NN = Neural_Network()\n",
        "for i in range(10): # trains the NN 1,000 times\n",
        "  print (\"# \" + str(i) + \"\\n\")\n",
        "  print (\"Input (scaled): \\n\" + str(X))\n",
        "  print (\"Actual Output: \\n\" + str(y))\n",
        "  print (\"Predicted Output: \\n\" + str(NN.forward(X)))\n",
        "  print (\"Loss: \\n\" + str(np.mean(np.square(y - NN.forward(X)))) )# mean sum squared loss\n",
        "  print (\"\\n\")\n",
        "  NN.train(X, y)\n",
        "  NN.saveWeights()\n",
        "  NN.predict()"
      ],
      "execution_count": 0,
      "outputs": []
    }
  ]
}